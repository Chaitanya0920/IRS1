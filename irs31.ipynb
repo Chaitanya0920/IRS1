{
  "nbformat": 4,
  "nbformat_minor": 0,
  "metadata": {
    "colab": {
      "provenance": [],
      "authorship_tag": "ABX9TyNc+XySjQzJdTsXSVfE0N85",
      "include_colab_link": true
    },
    "kernelspec": {
      "name": "python3",
      "display_name": "Python 3"
    },
    "language_info": {
      "name": "python"
    }
  },
  "cells": [
    {
      "cell_type": "markdown",
      "metadata": {
        "id": "view-in-github",
        "colab_type": "text"
      },
      "source": [
        "<a href=\"https://colab.research.google.com/github/Chaitanya0920/IRS1/blob/main/irs31.ipynb\" target=\"_parent\"><img src=\"https://colab.research.google.com/assets/colab-badge.svg\" alt=\"Open In Colab\"/></a>"
      ]
    },
    {
      "cell_type": "code",
      "execution_count": 3,
      "metadata": {
        "id": "1qH9a8jMq3Hb",
        "colab": {
          "base_uri": "https://localhost:8080/"
        },
        "outputId": "ac10bed6-9493-4e4b-9ea3-22f38256cd99"
      },
      "outputs": [
        {
          "output_type": "stream",
          "name": "stdout",
          "text": [
            "slept -> Document 2\n",
            "dog -> Document 2\n",
            "sun. -> Document 2\n",
            "brown -> Document 1\n",
            "jumped -> Document 1\n",
            "for -> Document 1\n",
            "dog. -> Document 1\n",
            "quick -> Document 1\n",
            "over -> Document 1\n",
            "the -> Document 1,Document 2\n",
            "in -> Document 2\n",
            "lazy -> Document 1,Document 2\n"
          ]
        }
      ],
      "source": [
        "document1 = \"The quick brown for jumped over the lazy dog.\"\n",
        "document2 = \"The lazy dog slept in the sun.\"\n",
        "tokens1 = document1.lower().split()\n",
        "tokens2 = document2.lower().split()\n",
        "terms = list(set(tokens1+tokens2))\n",
        "inverted_index = {}\n",
        "for term in terms:\n",
        "  document = []\n",
        "  if term in tokens1:\n",
        "    document.append(\"Document 1\")\n",
        "  if term in tokens2:\n",
        "    document.append(\"Document 2\")\n",
        "  inverted_index[term] = document\n",
        "for term,documents in inverted_index.items():\n",
        "  print(term,\"->\",\",\".join(documents))"
      ]
    }
  ]
}